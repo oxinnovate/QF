{
 "cells": [
  {
   "cell_type": "code",
   "execution_count": 17,
   "metadata": {},
   "outputs": [],
   "source": [
    "import numpy as np\n",
    "\n",
    "def compute_W_prime(W, X, Y, B):\n",
    "    \"\"\"\n",
    "    计算 W' = W - [W(Y - X) - B] (Y^T Y)^{-1} Y^T\n",
    "\n",
    "    参数:\n",
    "        W: (m, n) numpy 数组\n",
    "        X: (n, k) numpy 数组\n",
    "        Y: (p, k) numpy 数组\n",
    "        B: (m, k) numpy 数组\n",
    "\n",
    "    返回:\n",
    "        W_prime: (m, p) numpy 数组\n",
    "    \"\"\"\n",
    "    # 计算 Y - X\n",
    "    Y_minus_X = Y - X  # (p, k) - (n, k)\n",
    "    # 计算 W @ (Y - X)\n",
    "    WY_X = W @ Y_minus_X  # (m, n) @ (n, k) = (m, k)\n",
    "    # 计算 [W(Y - X) - B]\n",
    "    diff = WY_X - B  # (m, k) - (m, k)\n",
    "    # 计算 (Y^T Y)^{-1}\n",
    "    try:\n",
    "        YTY_inv = np.linalg.inv(Y @ Y.T)  # (p, k) @ (k, p) = (p, p)\n",
    "    except:\n",
    "        YTY_inv = np.linalg.pinv(Y @ Y.T)  # (p, k) @ (k, p) = (p, p)\n",
    "    # 计算 (Y^T)\n",
    "    YT = Y.T  # (k, p)\n",
    "    # 计算 [W(Y - X) - B] (Y^T Y)^{-1} Y^T\n",
    "    middle = diff @ YTY_inv @ YT  # (m, k) @ (p, p) @ (k, p) -> (m, p)\n",
    "    # 计算 W'\n",
    "    W_prime = W - middle  # (m, p)\n",
    "    return W_prime"
   ]
  },
  {
   "cell_type": "code",
   "execution_count": 16,
   "metadata": {},
   "outputs": [
    {
     "name": "stdout",
     "output_type": "stream",
     "text": [
      "X shape: torch.Size([13, 8960])\n",
      "Y shape: torch.Size([13, 8960])\n",
      "B shape: torch.Size([13, 1536])\n",
      "W shape: torch.Size([1536, 8960])\n"
     ]
    },
    {
     "ename": "ValueError",
     "evalue": "matmul: Input operand 1 has a mismatch in its core dimension 0, with gufunc signature (n?,k),(k,m?)->(n?,m?) (size 13 is different from 8960)",
     "output_type": "error",
     "traceback": [
      "\u001b[0;31m---------------------------------------------------------------------------\u001b[0m",
      "\u001b[0;31mValueError\u001b[0m                                Traceback (most recent call last)",
      "Cell \u001b[0;32mIn[16], line 30\u001b[0m\n\u001b[1;32m     26\u001b[0m W_np \u001b[38;5;241m=\u001b[39m W\u001b[38;5;241m.\u001b[39mdetach()\u001b[38;5;241m.\u001b[39mcpu()\u001b[38;5;241m.\u001b[39mnumpy()\n\u001b[1;32m     29\u001b[0m \u001b[38;5;66;03m# 调用compute_W_prime函数\u001b[39;00m\n\u001b[0;32m---> 30\u001b[0m W_prime \u001b[38;5;241m=\u001b[39m \u001b[43mcompute_W_prime\u001b[49m\u001b[43m(\u001b[49m\u001b[43mW_np\u001b[49m\u001b[43m,\u001b[49m\u001b[43m \u001b[49m\u001b[43mX_np\u001b[49m\u001b[43m,\u001b[49m\u001b[43m \u001b[49m\u001b[43mY_np\u001b[49m\u001b[43m,\u001b[49m\u001b[43m \u001b[49m\u001b[43mB_np\u001b[49m\u001b[43m)\u001b[49m\n\u001b[1;32m     32\u001b[0m \u001b[38;5;28mprint\u001b[39m(\u001b[38;5;124mf\u001b[39m\u001b[38;5;124m\"\u001b[39m\u001b[38;5;124mW_prime shape: \u001b[39m\u001b[38;5;132;01m{\u001b[39;00mW_prime\u001b[38;5;241m.\u001b[39mshape\u001b[38;5;132;01m}\u001b[39;00m\u001b[38;5;124m\"\u001b[39m)\n\u001b[1;32m     33\u001b[0m \u001b[38;5;28mprint\u001b[39m(\u001b[38;5;124mf\u001b[39m\u001b[38;5;124m\"\u001b[39m\u001b[38;5;124mW_prime 前几个元素: \u001b[39m\u001b[38;5;132;01m{\u001b[39;00mW_prime\u001b[38;5;241m.\u001b[39mflatten()[:\u001b[38;5;241m10\u001b[39m]\u001b[38;5;132;01m}\u001b[39;00m\u001b[38;5;124m\"\u001b[39m)\n",
      "Cell \u001b[0;32mIn[15], line 19\u001b[0m, in \u001b[0;36mcompute_W_prime\u001b[0;34m(W, X, Y, B)\u001b[0m\n\u001b[1;32m     17\u001b[0m Y_minus_X \u001b[38;5;241m=\u001b[39m Y \u001b[38;5;241m-\u001b[39m X  \u001b[38;5;66;03m# (p, k) - (n, k)\u001b[39;00m\n\u001b[1;32m     18\u001b[0m \u001b[38;5;66;03m# 计算 W @ (Y - X)\u001b[39;00m\n\u001b[0;32m---> 19\u001b[0m WY_X \u001b[38;5;241m=\u001b[39m \u001b[43mW\u001b[49m\u001b[43m \u001b[49m\u001b[38;5;241;43m@\u001b[39;49m\u001b[43m \u001b[49m\u001b[43mY_minus_X\u001b[49m  \u001b[38;5;66;03m# (m, n) @ (n, k) = (m, k)\u001b[39;00m\n\u001b[1;32m     20\u001b[0m \u001b[38;5;66;03m# 计算 [W(Y - X) - B]\u001b[39;00m\n\u001b[1;32m     21\u001b[0m diff \u001b[38;5;241m=\u001b[39m WY_X \u001b[38;5;241m-\u001b[39m B  \u001b[38;5;66;03m# (m, k) - (m, k)\u001b[39;00m\n",
      "\u001b[0;31mValueError\u001b[0m: matmul: Input operand 1 has a mismatch in its core dimension 0, with gufunc signature (n?,k),(k,m?)->(n?,m?) (size 13 is different from 8960)"
     ]
    }
   ],
   "source": [
    "import torch\n",
    "\n",
    "# 假设你已经加载了 X, Y, B\n",
    "X = torch.load('/home/ls/Github/ChatGLM3-main/QF/parameters/layer23_u.pt')\n",
    "Y = torch.load('/home/ls/Github/ChatGLM3-main/QF/parameters/layer23_up.pt') \n",
    "v = torch.load('/home/ls/Github/ChatGLM3-main/QF/parameters/layer23_v.pt')\n",
    "vp = torch.load('/home/ls/Github/ChatGLM3-main/QF/parameters/layer23_vp.pt')\n",
    "W = torch.load('/home/ls/Github/ChatGLM3-main/QF/parameters/layer23_weight.pt')\n",
    "\n",
    "B = v - vp\n",
    "\n",
    "# 去掉第一维度\n",
    "X = X.squeeze(0)  # [1, 13, 8960] -> [13, 8960]\n",
    "Y = Y.squeeze(0)  # [1, 13, 8960] -> [13, 8960]  \n",
    "B = B.squeeze(0)  # [1, 13, 1536] -> [13, 1536]\n",
    "\n",
    "print(f\"X shape: {X.shape}\")  # torch.Size([13, 8960])\n",
    "print(f\"Y shape: {Y.shape}\")  # torch.Size([13, 8960])\n",
    "print(f\"B shape: {B.shape}\")  # torch.Size([13, 1536])\n",
    "print(f\"W shape: {W.shape}\")  # torch.Size([1536, 8960])\n",
    "\n",
    "# 转换为numpy数组\n",
    "X_np = X.detach().cpu().numpy()\n",
    "Y_np = Y.detach().cpu().numpy()\n",
    "B_np = B.detach().cpu().numpy()\n",
    "W_np = W.detach().cpu().numpy()\n",
    "\n",
    "\n",
    "# 调用compute_W_prime函数\n",
    "W_prime = compute_W_prime(W_np, X_np, Y_np, B_np)\n",
    "\n",
    "print(f\"W_prime shape: {W_prime.shape}\")\n",
    "print(f\"W_prime 前几个元素: {W_prime.flatten()[:10]}\")"
   ]
  },
  {
   "cell_type": "code",
   "execution_count": 13,
   "metadata": {},
   "outputs": [
    {
     "data": {
      "text/plain": [
       "torch.Size([1536, 8960])"
      ]
     },
     "execution_count": 13,
     "metadata": {},
     "output_type": "execute_result"
    }
   ],
   "source": [
    "W.shape"
   ]
  },
  {
   "cell_type": "code",
   "execution_count": null,
   "metadata": {},
   "outputs": [
    {
     "data": {
      "text/plain": [
       "torch.Size([1536, 8960])"
      ]
     },
     "metadata": {},
     "output_type": "display_data"
    }
   ],
   "source": [
    "W.shape"
   ]
  },
  {
   "cell_type": "code",
   "execution_count": null,
   "metadata": {},
   "outputs": [
    {
     "data": {
      "text/plain": [
       "torch.Size([1536, 8960])"
      ]
     },
     "metadata": {},
     "output_type": "display_data"
    }
   ],
   "source": [
    "W.shape"
   ]
  },
  {
   "cell_type": "code",
   "execution_count": null,
   "metadata": {},
   "outputs": [],
   "source": []
  },
  {
   "cell_type": "code",
   "execution_count": 6,
   "metadata": {},
   "outputs": [
    {
     "name": "stdout",
     "output_type": "stream",
     "text": [
      "W':\n",
      " [[1. 4.]\n",
      " [3. 8.]]\n"
     ]
    }
   ],
   "source": [
    "# 测试用例\n",
    "W = np.array([[1, 2],\n",
    "              [3, 4]])\n",
    "X = np.array([[1, 0],\n",
    "              [0, 1]])\n",
    "B = np.array([[1, 2],\n",
    "              [3, 4]])\n",
    "Y = np.array([[2, 0],\n",
    "              [0, 1]])\n",
    "\n",
    "W_prime = compute_W_prime(W, X, Y, B)\n",
    "\n",
    "\n",
    "print(\"W':\\n\", W_prime)"
   ]
  },
  {
   "cell_type": "code",
   "execution_count": null,
   "metadata": {},
   "outputs": [],
   "source": [
    "if os.path.exists(u_path):\n",
    "    print(f\"正在读取文件: {u_path}\")\n",
    "    u_data = torch.load(u_path, map_location='cpu')\n",
    "    \n",
    "    print(f\"数据类型: {type(u_data)}\")\n",
    "    print(f\"数据形状: {u_data.shape}\")\n",
    "    print(f\"数据类型: {u_data.dtype}\")\n",
    "    print(f\"数据设备: {u_data.device}\")\n",
    "    \n",
    "    # 显示前几个元素\n",
    "    print(f\"\\n前10个元素:\")\n",
    "    print(u_data.flatten()[:10])\n",
    "    \n",
    "    # 显示统计信息\n",
    "    print(f\"\\n统计信息:\")\n",
    "    print(f\"最小值: {u_data.min().item()}\")\n",
    "    print(f\"最大值: {u_data.max().item()}\")\n",
    "    print(f\"均值: {u_data.mean().item()}\")\n",
    "    print(f\"标准差: {u_data.std().item()}\")\n",
    "    \n",
    "else:\n",
    "    print(f\"文件不存在: {u_path}\") "
   ]
  }
 ],
 "metadata": {
  "kernelspec": {
   "display_name": "qwen",
   "language": "python",
   "name": "python3"
  },
  "language_info": {
   "codemirror_mode": {
    "name": "ipython",
    "version": 3
   },
   "file_extension": ".py",
   "mimetype": "text/x-python",
   "name": "python",
   "nbconvert_exporter": "python",
   "pygments_lexer": "ipython3",
   "version": "3.10.14"
  }
 },
 "nbformat": 4,
 "nbformat_minor": 2
}
